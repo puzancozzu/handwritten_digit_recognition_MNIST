{
 "cells": [
  {
   "cell_type": "markdown",
   "id": "6f7c59cc",
   "metadata": {
    "papermill": {
     "duration": 0.008498,
     "end_time": "2024-08-29T17:33:58.451885",
     "exception": false,
     "start_time": "2024-08-29T17:33:58.443387",
     "status": "completed"
    },
    "tags": []
   },
   "source": [
    "## **IMPORTING ALL NECESSARY LIBRARIES**"
   ]
  },
  {
   "cell_type": "code",
   "execution_count": 1,
   "id": "0e50a5bc",
   "metadata": {
    "_cell_guid": "b1076dfc-b9ad-4769-8c92-a6c4dae69d19",
    "_uuid": "8f2839f25d086af736a60e9eeb907d3b93b6e0e5",
    "execution": {
     "iopub.execute_input": "2024-08-29T17:33:58.469501Z",
     "iopub.status.busy": "2024-08-29T17:33:58.468828Z",
     "iopub.status.idle": "2024-08-29T17:34:11.161106Z",
     "shell.execute_reply": "2024-08-29T17:34:11.160118Z"
    },
    "papermill": {
     "duration": 12.703882,
     "end_time": "2024-08-29T17:34:11.163604",
     "exception": false,
     "start_time": "2024-08-29T17:33:58.459722",
     "status": "completed"
    },
    "tags": []
   },
   "outputs": [],
   "source": [
    "import keras\n",
    "from keras.datasets import mnist\n",
    "from keras.models import Sequential\n",
    "from keras.layers import Dense, Flatten\n",
    "from keras.layers import Dropout\n",
    "from keras.layers import Flatten\n",
    "from keras.layers import Conv2D\n",
    "from keras.layers import MaxPooling2D\n",
    "from keras import backend as K\n",
    "import numpy as np\n",
    "from keras.models import load_model\n",
    "from tensorflow.keras.preprocessing.image import load_img,img_to_array\n",
    "from tensorflow.keras.callbacks import ModelCheckpoint, EarlyStopping, CSVLogger"
   ]
  },
  {
   "cell_type": "code",
   "execution_count": 2,
   "id": "02328bd4",
   "metadata": {
    "execution": {
     "iopub.execute_input": "2024-08-29T17:34:11.181151Z",
     "iopub.status.busy": "2024-08-29T17:34:11.180605Z",
     "iopub.status.idle": "2024-08-29T17:34:12.493204Z",
     "shell.execute_reply": "2024-08-29T17:34:12.492354Z"
    },
    "papermill": {
     "duration": 1.323937,
     "end_time": "2024-08-29T17:34:12.495610",
     "exception": false,
     "start_time": "2024-08-29T17:34:11.171673",
     "status": "completed"
    },
    "tags": []
   },
   "outputs": [
    {
     "name": "stdout",
     "output_type": "stream",
     "text": [
      "Downloading data from https://storage.googleapis.com/tensorflow/tf-keras-datasets/mnist.npz\n",
      "\u001b[1m11490434/11490434\u001b[0m \u001b[32m━━━━━━━━━━━━━━━━━━━━\u001b[0m\u001b[37m\u001b[0m \u001b[1m1s\u001b[0m 0us/step\n"
     ]
    }
   ],
   "source": [
    "## LOADING THE DATASET - USE MNIST DATASET - with 70000 data 6:1 split\n",
    "(x_train, y_train), (x_test, y_test) = mnist.load_data()"
   ]
  },
  {
   "cell_type": "markdown",
   "id": "d3f3e5a6",
   "metadata": {
    "papermill": {
     "duration": 0.009453,
     "end_time": "2024-08-29T17:34:12.530158",
     "exception": false,
     "start_time": "2024-08-29T17:34:12.520705",
     "status": "completed"
    },
    "tags": []
   },
   "source": [
    "## **DATA PRE PROCESSING**\n",
    "\n",
    "* Image Size = 28 * 28 \n",
    "* Conversion to categorical vales [0....9] = 10 class in total "
   ]
  },
  {
   "cell_type": "code",
   "execution_count": 3,
   "id": "a38b3c3f",
   "metadata": {
    "execution": {
     "iopub.execute_input": "2024-08-29T17:34:12.550388Z",
     "iopub.status.busy": "2024-08-29T17:34:12.549784Z",
     "iopub.status.idle": "2024-08-29T17:34:12.636023Z",
     "shell.execute_reply": "2024-08-29T17:34:12.634980Z"
    },
    "papermill": {
     "duration": 0.099037,
     "end_time": "2024-08-29T17:34:12.638533",
     "exception": false,
     "start_time": "2024-08-29T17:34:12.539496",
     "status": "completed"
    },
    "tags": []
   },
   "outputs": [],
   "source": [
    "num_classes = 10\n",
    "x_train = x_train.reshape(x_train.shape[0], 28, 28, 1)\n",
    "x_test = x_test.reshape(x_test.shape[0], 28, 28, 1)\n",
    "input_shape = (28, 28, 1)\n",
    "\n",
    "### conversion of class vectors to matrices of  binary class \n",
    "y_train = keras.utils.to_categorical(y_train, num_classes)\n",
    "y_test = keras.utils.to_categorical(y_test, num_classes)\n",
    "x_train = x_train.astype('float32')\n",
    "x_test = x_test.astype('float32')\n",
    "x_train /= 255\n",
    "x_test /= 255"
   ]
  },
  {
   "cell_type": "code",
   "execution_count": 4,
   "id": "cbd8a4bf",
   "metadata": {
    "execution": {
     "iopub.execute_input": "2024-08-29T17:34:12.658766Z",
     "iopub.status.busy": "2024-08-29T17:34:12.658450Z",
     "iopub.status.idle": "2024-08-29T17:34:12.665083Z",
     "shell.execute_reply": "2024-08-29T17:34:12.664216Z"
    },
    "papermill": {
     "duration": 0.019077,
     "end_time": "2024-08-29T17:34:12.667101",
     "exception": false,
     "start_time": "2024-08-29T17:34:12.648024",
     "status": "completed"
    },
    "tags": []
   },
   "outputs": [
    {
     "data": {
      "text/plain": [
       "(60000, 28, 28, 1)"
      ]
     },
     "execution_count": 4,
     "metadata": {},
     "output_type": "execute_result"
    }
   ],
   "source": [
    "x_train.shape"
   ]
  },
  {
   "cell_type": "markdown",
   "id": "bd33663d",
   "metadata": {
    "papermill": {
     "duration": 0.009132,
     "end_time": "2024-08-29T17:34:12.685527",
     "exception": false,
     "start_time": "2024-08-29T17:34:12.676395",
     "status": "completed"
    },
    "tags": []
   },
   "source": [
    "## **DEFINING AND COMPLING MODEL**"
   ]
  },
  {
   "cell_type": "code",
   "execution_count": 5,
   "id": "bb262b63",
   "metadata": {
    "execution": {
     "iopub.execute_input": "2024-08-29T17:34:12.705287Z",
     "iopub.status.busy": "2024-08-29T17:34:12.704965Z",
     "iopub.status.idle": "2024-08-29T17:34:13.480575Z",
     "shell.execute_reply": "2024-08-29T17:34:13.479573Z"
    },
    "papermill": {
     "duration": 0.788166,
     "end_time": "2024-08-29T17:34:13.482870",
     "exception": false,
     "start_time": "2024-08-29T17:34:12.694704",
     "status": "completed"
    },
    "tags": []
   },
   "outputs": [
    {
     "name": "stderr",
     "output_type": "stream",
     "text": [
      "/opt/conda/lib/python3.10/site-packages/keras/src/layers/convolutional/base_conv.py:107: UserWarning: Do not pass an `input_shape`/`input_dim` argument to a layer. When using Sequential models, prefer using an `Input(shape)` object as the first layer in the model instead.\n",
      "  super().__init__(activity_regularizer=activity_regularizer, **kwargs)\n"
     ]
    }
   ],
   "source": [
    "## CLASSIFICATION of IMAGES \n",
    "batch_size = 128\n",
    "num_classes = 10\n",
    "\n",
    "## DEFINING MODEL ARCH\n",
    "model = Sequential()\n",
    "model.add(Conv2D(32, kernel_size=(3, 3),activation='relu',input_shape=input_shape))\n",
    "model.add(Conv2D(64, (3, 3), activation='relu'))\n",
    "model.add(MaxPooling2D(pool_size=(2, 2)))\n",
    "model.add(Dropout(0.25))\n",
    "model.add(Flatten())\n",
    "model.add(Dense(256, activation='relu'))\n",
    "model.add(Dropout(0.5))\n",
    "model.add(Dense(num_classes, activation='softmax'))\n",
    "\n",
    "## Compling the model\n",
    "model.compile(loss=keras.losses.categorical_crossentropy,\n",
    "              optimizer=keras.optimizers.Adadelta(),\n",
    "              metrics=['accuracy'])"
   ]
  },
  {
   "cell_type": "code",
   "execution_count": 6,
   "id": "63467e12",
   "metadata": {
    "execution": {
     "iopub.execute_input": "2024-08-29T17:34:13.503713Z",
     "iopub.status.busy": "2024-08-29T17:34:13.502873Z",
     "iopub.status.idle": "2024-08-29T17:34:13.525289Z",
     "shell.execute_reply": "2024-08-29T17:34:13.524428Z"
    },
    "papermill": {
     "duration": 0.034653,
     "end_time": "2024-08-29T17:34:13.527181",
     "exception": false,
     "start_time": "2024-08-29T17:34:13.492528",
     "status": "completed"
    },
    "tags": []
   },
   "outputs": [
    {
     "data": {
      "text/html": [
       "<pre style=\"white-space:pre;overflow-x:auto;line-height:normal;font-family:Menlo,'DejaVu Sans Mono',consolas,'Courier New',monospace\"><span style=\"font-weight: bold\">Model: \"sequential\"</span>\n",
       "</pre>\n"
      ],
      "text/plain": [
       "\u001b[1mModel: \"sequential\"\u001b[0m\n"
      ]
     },
     "metadata": {},
     "output_type": "display_data"
    },
    {
     "data": {
      "text/html": [
       "<pre style=\"white-space:pre;overflow-x:auto;line-height:normal;font-family:Menlo,'DejaVu Sans Mono',consolas,'Courier New',monospace\">┏━━━━━━━━━━━━━━━━━━━━━━━━━━━━━━━━━┳━━━━━━━━━━━━━━━━━━━━━━━━┳━━━━━━━━━━━━━━━┓\n",
       "┃<span style=\"font-weight: bold\"> Layer (type)                    </span>┃<span style=\"font-weight: bold\"> Output Shape           </span>┃<span style=\"font-weight: bold\">       Param # </span>┃\n",
       "┡━━━━━━━━━━━━━━━━━━━━━━━━━━━━━━━━━╇━━━━━━━━━━━━━━━━━━━━━━━━╇━━━━━━━━━━━━━━━┩\n",
       "│ conv2d (<span style=\"color: #0087ff; text-decoration-color: #0087ff\">Conv2D</span>)                 │ (<span style=\"color: #00d7ff; text-decoration-color: #00d7ff\">None</span>, <span style=\"color: #00af00; text-decoration-color: #00af00\">26</span>, <span style=\"color: #00af00; text-decoration-color: #00af00\">26</span>, <span style=\"color: #00af00; text-decoration-color: #00af00\">32</span>)     │           <span style=\"color: #00af00; text-decoration-color: #00af00\">320</span> │\n",
       "├─────────────────────────────────┼────────────────────────┼───────────────┤\n",
       "│ conv2d_1 (<span style=\"color: #0087ff; text-decoration-color: #0087ff\">Conv2D</span>)               │ (<span style=\"color: #00d7ff; text-decoration-color: #00d7ff\">None</span>, <span style=\"color: #00af00; text-decoration-color: #00af00\">24</span>, <span style=\"color: #00af00; text-decoration-color: #00af00\">24</span>, <span style=\"color: #00af00; text-decoration-color: #00af00\">64</span>)     │        <span style=\"color: #00af00; text-decoration-color: #00af00\">18,496</span> │\n",
       "├─────────────────────────────────┼────────────────────────┼───────────────┤\n",
       "│ max_pooling2d (<span style=\"color: #0087ff; text-decoration-color: #0087ff\">MaxPooling2D</span>)    │ (<span style=\"color: #00d7ff; text-decoration-color: #00d7ff\">None</span>, <span style=\"color: #00af00; text-decoration-color: #00af00\">12</span>, <span style=\"color: #00af00; text-decoration-color: #00af00\">12</span>, <span style=\"color: #00af00; text-decoration-color: #00af00\">64</span>)     │             <span style=\"color: #00af00; text-decoration-color: #00af00\">0</span> │\n",
       "├─────────────────────────────────┼────────────────────────┼───────────────┤\n",
       "│ dropout (<span style=\"color: #0087ff; text-decoration-color: #0087ff\">Dropout</span>)               │ (<span style=\"color: #00d7ff; text-decoration-color: #00d7ff\">None</span>, <span style=\"color: #00af00; text-decoration-color: #00af00\">12</span>, <span style=\"color: #00af00; text-decoration-color: #00af00\">12</span>, <span style=\"color: #00af00; text-decoration-color: #00af00\">64</span>)     │             <span style=\"color: #00af00; text-decoration-color: #00af00\">0</span> │\n",
       "├─────────────────────────────────┼────────────────────────┼───────────────┤\n",
       "│ flatten (<span style=\"color: #0087ff; text-decoration-color: #0087ff\">Flatten</span>)               │ (<span style=\"color: #00d7ff; text-decoration-color: #00d7ff\">None</span>, <span style=\"color: #00af00; text-decoration-color: #00af00\">9216</span>)           │             <span style=\"color: #00af00; text-decoration-color: #00af00\">0</span> │\n",
       "├─────────────────────────────────┼────────────────────────┼───────────────┤\n",
       "│ dense (<span style=\"color: #0087ff; text-decoration-color: #0087ff\">Dense</span>)                   │ (<span style=\"color: #00d7ff; text-decoration-color: #00d7ff\">None</span>, <span style=\"color: #00af00; text-decoration-color: #00af00\">256</span>)            │     <span style=\"color: #00af00; text-decoration-color: #00af00\">2,359,552</span> │\n",
       "├─────────────────────────────────┼────────────────────────┼───────────────┤\n",
       "│ dropout_1 (<span style=\"color: #0087ff; text-decoration-color: #0087ff\">Dropout</span>)             │ (<span style=\"color: #00d7ff; text-decoration-color: #00d7ff\">None</span>, <span style=\"color: #00af00; text-decoration-color: #00af00\">256</span>)            │             <span style=\"color: #00af00; text-decoration-color: #00af00\">0</span> │\n",
       "├─────────────────────────────────┼────────────────────────┼───────────────┤\n",
       "│ dense_1 (<span style=\"color: #0087ff; text-decoration-color: #0087ff\">Dense</span>)                 │ (<span style=\"color: #00d7ff; text-decoration-color: #00d7ff\">None</span>, <span style=\"color: #00af00; text-decoration-color: #00af00\">10</span>)             │         <span style=\"color: #00af00; text-decoration-color: #00af00\">2,570</span> │\n",
       "└─────────────────────────────────┴────────────────────────┴───────────────┘\n",
       "</pre>\n"
      ],
      "text/plain": [
       "┏━━━━━━━━━━━━━━━━━━━━━━━━━━━━━━━━━┳━━━━━━━━━━━━━━━━━━━━━━━━┳━━━━━━━━━━━━━━━┓\n",
       "┃\u001b[1m \u001b[0m\u001b[1mLayer (type)                   \u001b[0m\u001b[1m \u001b[0m┃\u001b[1m \u001b[0m\u001b[1mOutput Shape          \u001b[0m\u001b[1m \u001b[0m┃\u001b[1m \u001b[0m\u001b[1m      Param #\u001b[0m\u001b[1m \u001b[0m┃\n",
       "┡━━━━━━━━━━━━━━━━━━━━━━━━━━━━━━━━━╇━━━━━━━━━━━━━━━━━━━━━━━━╇━━━━━━━━━━━━━━━┩\n",
       "│ conv2d (\u001b[38;5;33mConv2D\u001b[0m)                 │ (\u001b[38;5;45mNone\u001b[0m, \u001b[38;5;34m26\u001b[0m, \u001b[38;5;34m26\u001b[0m, \u001b[38;5;34m32\u001b[0m)     │           \u001b[38;5;34m320\u001b[0m │\n",
       "├─────────────────────────────────┼────────────────────────┼───────────────┤\n",
       "│ conv2d_1 (\u001b[38;5;33mConv2D\u001b[0m)               │ (\u001b[38;5;45mNone\u001b[0m, \u001b[38;5;34m24\u001b[0m, \u001b[38;5;34m24\u001b[0m, \u001b[38;5;34m64\u001b[0m)     │        \u001b[38;5;34m18,496\u001b[0m │\n",
       "├─────────────────────────────────┼────────────────────────┼───────────────┤\n",
       "│ max_pooling2d (\u001b[38;5;33mMaxPooling2D\u001b[0m)    │ (\u001b[38;5;45mNone\u001b[0m, \u001b[38;5;34m12\u001b[0m, \u001b[38;5;34m12\u001b[0m, \u001b[38;5;34m64\u001b[0m)     │             \u001b[38;5;34m0\u001b[0m │\n",
       "├─────────────────────────────────┼────────────────────────┼───────────────┤\n",
       "│ dropout (\u001b[38;5;33mDropout\u001b[0m)               │ (\u001b[38;5;45mNone\u001b[0m, \u001b[38;5;34m12\u001b[0m, \u001b[38;5;34m12\u001b[0m, \u001b[38;5;34m64\u001b[0m)     │             \u001b[38;5;34m0\u001b[0m │\n",
       "├─────────────────────────────────┼────────────────────────┼───────────────┤\n",
       "│ flatten (\u001b[38;5;33mFlatten\u001b[0m)               │ (\u001b[38;5;45mNone\u001b[0m, \u001b[38;5;34m9216\u001b[0m)           │             \u001b[38;5;34m0\u001b[0m │\n",
       "├─────────────────────────────────┼────────────────────────┼───────────────┤\n",
       "│ dense (\u001b[38;5;33mDense\u001b[0m)                   │ (\u001b[38;5;45mNone\u001b[0m, \u001b[38;5;34m256\u001b[0m)            │     \u001b[38;5;34m2,359,552\u001b[0m │\n",
       "├─────────────────────────────────┼────────────────────────┼───────────────┤\n",
       "│ dropout_1 (\u001b[38;5;33mDropout\u001b[0m)             │ (\u001b[38;5;45mNone\u001b[0m, \u001b[38;5;34m256\u001b[0m)            │             \u001b[38;5;34m0\u001b[0m │\n",
       "├─────────────────────────────────┼────────────────────────┼───────────────┤\n",
       "│ dense_1 (\u001b[38;5;33mDense\u001b[0m)                 │ (\u001b[38;5;45mNone\u001b[0m, \u001b[38;5;34m10\u001b[0m)             │         \u001b[38;5;34m2,570\u001b[0m │\n",
       "└─────────────────────────────────┴────────────────────────┴───────────────┘\n"
      ]
     },
     "metadata": {},
     "output_type": "display_data"
    },
    {
     "data": {
      "text/html": [
       "<pre style=\"white-space:pre;overflow-x:auto;line-height:normal;font-family:Menlo,'DejaVu Sans Mono',consolas,'Courier New',monospace\"><span style=\"font-weight: bold\"> Total params: </span><span style=\"color: #00af00; text-decoration-color: #00af00\">2,380,938</span> (9.08 MB)\n",
       "</pre>\n"
      ],
      "text/plain": [
       "\u001b[1m Total params: \u001b[0m\u001b[38;5;34m2,380,938\u001b[0m (9.08 MB)\n"
      ]
     },
     "metadata": {},
     "output_type": "display_data"
    },
    {
     "data": {
      "text/html": [
       "<pre style=\"white-space:pre;overflow-x:auto;line-height:normal;font-family:Menlo,'DejaVu Sans Mono',consolas,'Courier New',monospace\"><span style=\"font-weight: bold\"> Trainable params: </span><span style=\"color: #00af00; text-decoration-color: #00af00\">2,380,938</span> (9.08 MB)\n",
       "</pre>\n"
      ],
      "text/plain": [
       "\u001b[1m Trainable params: \u001b[0m\u001b[38;5;34m2,380,938\u001b[0m (9.08 MB)\n"
      ]
     },
     "metadata": {},
     "output_type": "display_data"
    },
    {
     "data": {
      "text/html": [
       "<pre style=\"white-space:pre;overflow-x:auto;line-height:normal;font-family:Menlo,'DejaVu Sans Mono',consolas,'Courier New',monospace\"><span style=\"font-weight: bold\"> Non-trainable params: </span><span style=\"color: #00af00; text-decoration-color: #00af00\">0</span> (0.00 B)\n",
       "</pre>\n"
      ],
      "text/plain": [
       "\u001b[1m Non-trainable params: \u001b[0m\u001b[38;5;34m0\u001b[0m (0.00 B)\n"
      ]
     },
     "metadata": {},
     "output_type": "display_data"
    }
   ],
   "source": [
    "model.summary()"
   ]
  },
  {
   "cell_type": "markdown",
   "id": "7cf618bb",
   "metadata": {
    "papermill": {
     "duration": 0.010048,
     "end_time": "2024-08-29T17:34:13.547555",
     "exception": false,
     "start_time": "2024-08-29T17:34:13.537507",
     "status": "completed"
    },
    "tags": []
   },
   "source": [
    "## **TRAINING THE CNN MODEL**"
   ]
  },
  {
   "cell_type": "code",
   "execution_count": 7,
   "id": "7d6c3b9f",
   "metadata": {
    "execution": {
     "iopub.execute_input": "2024-08-29T17:34:13.569413Z",
     "iopub.status.busy": "2024-08-29T17:34:13.569069Z",
     "iopub.status.idle": "2024-08-29T17:34:14.603787Z",
     "shell.execute_reply": "2024-08-29T17:34:14.602773Z"
    },
    "papermill": {
     "duration": 1.048411,
     "end_time": "2024-08-29T17:34:14.606146",
     "exception": false,
     "start_time": "2024-08-29T17:34:13.557735",
     "status": "completed"
    },
    "tags": []
   },
   "outputs": [
    {
     "name": "stderr",
     "output_type": "stream",
     "text": [
      "/opt/conda/lib/python3.10/pty.py:89: RuntimeWarning: os.fork() was called. os.fork() is incompatible with multithreaded code, and JAX is multithreaded, so this will likely lead to a deadlock.\n",
      "  pid, fd = os.forkpty()\n"
     ]
    },
    {
     "name": "stdout",
     "output_type": "stream",
     "text": [
      "rm: cannot remove '/kaggle/working/MyCheckpoint': No such file or directory\r\n"
     ]
    }
   ],
   "source": [
    "import os\n",
    "!rm -r /kaggle/working/MyCheckpoint\n",
    "os.mkdir('/kaggle/working/MyCheckpoint')"
   ]
  },
  {
   "cell_type": "code",
   "execution_count": 8,
   "id": "a87be5e4",
   "metadata": {
    "execution": {
     "iopub.execute_input": "2024-08-29T17:34:14.629277Z",
     "iopub.status.busy": "2024-08-29T17:34:14.628283Z",
     "iopub.status.idle": "2024-08-29T17:34:14.699101Z",
     "shell.execute_reply": "2024-08-29T17:34:14.697815Z"
    },
    "papermill": {
     "duration": 0.08444,
     "end_time": "2024-08-29T17:34:14.701290",
     "exception": false,
     "start_time": "2024-08-29T17:34:14.616850",
     "status": "completed"
    },
    "tags": []
   },
   "outputs": [
    {
     "name": "stdout",
     "output_type": "stream",
     "text": [
      "(55000, 28, 28, 1) (5000, 28, 28, 1)\n"
     ]
    }
   ],
   "source": [
    "### splitting 60000 data in test and validation\n",
    "\n",
    "x_train, x_val = x_train[:55000], x_train[55000:]\n",
    "y_train, y_val = y_train[:55000], y_train[55000:]\n",
    "\n",
    "shuffle_index = np.random.permutation(55000)\n",
    "x_train, y_train = x_train[shuffle_index], y_train[shuffle_index]\n",
    "\n",
    "print(x_train.shape, x_val.shape)"
   ]
  },
  {
   "cell_type": "code",
   "execution_count": 9,
   "id": "7960a415",
   "metadata": {
    "execution": {
     "iopub.execute_input": "2024-08-29T17:34:14.723607Z",
     "iopub.status.busy": "2024-08-29T17:34:14.723257Z",
     "iopub.status.idle": "2024-08-29T17:34:14.728209Z",
     "shell.execute_reply": "2024-08-29T17:34:14.727335Z"
    },
    "papermill": {
     "duration": 0.018101,
     "end_time": "2024-08-29T17:34:14.730094",
     "exception": false,
     "start_time": "2024-08-29T17:34:14.711993",
     "status": "completed"
    },
    "tags": []
   },
   "outputs": [],
   "source": [
    "checkpoint = ModelCheckpoint(\"/kaggle/working/MyCheckpoint/best_model-{epoch:02d}-{val_accuracy:.02f}.keras\",\n",
    "                             monitor='val_accuracy', mode='max', verbose=1, save_best_only=True)\n",
    "early_stop = EarlyStopping(monitor='val_loss', mode='min', verbose=1, patience=5)"
   ]
  },
  {
   "cell_type": "code",
   "execution_count": 10,
   "id": "71e62a89",
   "metadata": {
    "execution": {
     "iopub.execute_input": "2024-08-29T17:34:14.752275Z",
     "iopub.status.busy": "2024-08-29T17:34:14.751534Z",
     "iopub.status.idle": "2024-08-29T17:36:07.711040Z",
     "shell.execute_reply": "2024-08-29T17:36:07.710003Z"
    },
    "papermill": {
     "duration": 112.972798,
     "end_time": "2024-08-29T17:36:07.713230",
     "exception": false,
     "start_time": "2024-08-29T17:34:14.740432",
     "status": "completed"
    },
    "tags": []
   },
   "outputs": [
    {
     "name": "stdout",
     "output_type": "stream",
     "text": [
      "Epoch 1/50\n"
     ]
    },
    {
     "name": "stderr",
     "output_type": "stream",
     "text": [
      "WARNING: All log messages before absl::InitializeLog() is called are written to STDERR\n",
      "I0000 00:00:1724952856.467836      65 service.cc:145] XLA service 0x7a1818009630 initialized for platform CUDA (this does not guarantee that XLA will be used). Devices:\n",
      "I0000 00:00:1724952856.467906      65 service.cc:153]   StreamExecutor device (0): Tesla P100-PCIE-16GB, Compute Capability 6.0\n"
     ]
    },
    {
     "name": "stdout",
     "output_type": "stream",
     "text": [
      "\u001b[1m 36/430\u001b[0m \u001b[32m━\u001b[0m\u001b[37m━━━━━━━━━━━━━━━━━━━\u001b[0m \u001b[1m1s\u001b[0m 4ms/step - accuracy: 0.0922 - loss: 2.3169"
     ]
    },
    {
     "name": "stderr",
     "output_type": "stream",
     "text": [
      "I0000 00:00:1724952860.884934      65 device_compiler.h:188] Compiled cluster using XLA!  This line is logged at most once for the lifetime of the process.\n"
     ]
    },
    {
     "name": "stdout",
     "output_type": "stream",
     "text": [
      "\u001b[1m430/430\u001b[0m \u001b[32m━━━━━━━━━━━━━━━━━━━━\u001b[0m\u001b[37m\u001b[0m \u001b[1m0s\u001b[0m 11ms/step - accuracy: 0.1191 - loss: 2.2993\n",
      "Epoch 1: val_accuracy improved from -inf to 0.37720, saving model to /kaggle/working/MyCheckpoint/best_model-01-0.38.keras\n",
      "\u001b[1m430/430\u001b[0m \u001b[32m━━━━━━━━━━━━━━━━━━━━\u001b[0m\u001b[37m\u001b[0m \u001b[1m12s\u001b[0m 14ms/step - accuracy: 0.1192 - loss: 2.2992 - val_accuracy: 0.3772 - val_loss: 2.2214\n",
      "Epoch 2/50\n",
      "\u001b[1m421/430\u001b[0m \u001b[32m━━━━━━━━━━━━━━━━━━━\u001b[0m\u001b[37m━\u001b[0m \u001b[1m0s\u001b[0m 4ms/step - accuracy: 0.2737 - loss: 2.2200\n",
      "Epoch 2: val_accuracy improved from 0.37720 to 0.60040, saving model to /kaggle/working/MyCheckpoint/best_model-02-0.60.keras\n",
      "\u001b[1m430/430\u001b[0m \u001b[32m━━━━━━━━━━━━━━━━━━━━\u001b[0m\u001b[37m\u001b[0m \u001b[1m2s\u001b[0m 5ms/step - accuracy: 0.2745 - loss: 2.2196 - val_accuracy: 0.6004 - val_loss: 2.1231\n",
      "Epoch 3/50\n",
      "\u001b[1m420/430\u001b[0m \u001b[32m━━━━━━━━━━━━━━━━━━━\u001b[0m\u001b[37m━\u001b[0m \u001b[1m0s\u001b[0m 4ms/step - accuracy: 0.4039 - loss: 2.1292\n",
      "Epoch 3: val_accuracy improved from 0.60040 to 0.67580, saving model to /kaggle/working/MyCheckpoint/best_model-03-0.68.keras\n",
      "\u001b[1m430/430\u001b[0m \u001b[32m━━━━━━━━━━━━━━━━━━━━\u001b[0m\u001b[37m\u001b[0m \u001b[1m2s\u001b[0m 5ms/step - accuracy: 0.4045 - loss: 2.1285 - val_accuracy: 0.6758 - val_loss: 1.9940\n",
      "Epoch 4/50\n",
      "\u001b[1m421/430\u001b[0m \u001b[32m━━━━━━━━━━━━━━━━━━━\u001b[0m\u001b[37m━\u001b[0m \u001b[1m0s\u001b[0m 4ms/step - accuracy: 0.4972 - loss: 2.0094\n",
      "Epoch 4: val_accuracy improved from 0.67580 to 0.72620, saving model to /kaggle/working/MyCheckpoint/best_model-04-0.73.keras\n",
      "\u001b[1m430/430\u001b[0m \u001b[32m━━━━━━━━━━━━━━━━━━━━\u001b[0m\u001b[37m\u001b[0m \u001b[1m2s\u001b[0m 5ms/step - accuracy: 0.4977 - loss: 2.0085 - val_accuracy: 0.7262 - val_loss: 1.8201\n",
      "Epoch 5/50\n",
      "\u001b[1m419/430\u001b[0m \u001b[32m━━━━━━━━━━━━━━━━━━━\u001b[0m\u001b[37m━\u001b[0m \u001b[1m0s\u001b[0m 4ms/step - accuracy: 0.5565 - loss: 1.8486\n",
      "Epoch 5: val_accuracy improved from 0.72620 to 0.76280, saving model to /kaggle/working/MyCheckpoint/best_model-05-0.76.keras\n",
      "\u001b[1m430/430\u001b[0m \u001b[32m━━━━━━━━━━━━━━━━━━━━\u001b[0m\u001b[37m\u001b[0m \u001b[1m2s\u001b[0m 5ms/step - accuracy: 0.5570 - loss: 1.8473 - val_accuracy: 0.7628 - val_loss: 1.5989\n",
      "Epoch 6/50\n",
      "\u001b[1m421/430\u001b[0m \u001b[32m━━━━━━━━━━━━━━━━━━━\u001b[0m\u001b[37m━\u001b[0m \u001b[1m0s\u001b[0m 4ms/step - accuracy: 0.6146 - loss: 1.6460\n",
      "Epoch 6: val_accuracy improved from 0.76280 to 0.79580, saving model to /kaggle/working/MyCheckpoint/best_model-06-0.80.keras\n",
      "\u001b[1m430/430\u001b[0m \u001b[32m━━━━━━━━━━━━━━━━━━━━\u001b[0m\u001b[37m\u001b[0m \u001b[1m2s\u001b[0m 5ms/step - accuracy: 0.6148 - loss: 1.6448 - val_accuracy: 0.7958 - val_loss: 1.3530\n",
      "Epoch 7/50\n",
      "\u001b[1m421/430\u001b[0m \u001b[32m━━━━━━━━━━━━━━━━━━━\u001b[0m\u001b[37m━\u001b[0m \u001b[1m0s\u001b[0m 4ms/step - accuracy: 0.6522 - loss: 1.4388\n",
      "Epoch 7: val_accuracy improved from 0.79580 to 0.82060, saving model to /kaggle/working/MyCheckpoint/best_model-07-0.82.keras\n",
      "\u001b[1m430/430\u001b[0m \u001b[32m━━━━━━━━━━━━━━━━━━━━\u001b[0m\u001b[37m\u001b[0m \u001b[1m2s\u001b[0m 5ms/step - accuracy: 0.6523 - loss: 1.4377 - val_accuracy: 0.8206 - val_loss: 1.1210\n",
      "Epoch 8/50\n",
      "\u001b[1m421/430\u001b[0m \u001b[32m━━━━━━━━━━━━━━━━━━━\u001b[0m\u001b[37m━\u001b[0m \u001b[1m0s\u001b[0m 4ms/step - accuracy: 0.6787 - loss: 1.2533\n",
      "Epoch 8: val_accuracy improved from 0.82060 to 0.84080, saving model to /kaggle/working/MyCheckpoint/best_model-08-0.84.keras\n",
      "\u001b[1m430/430\u001b[0m \u001b[32m━━━━━━━━━━━━━━━━━━━━\u001b[0m\u001b[37m\u001b[0m \u001b[1m2s\u001b[0m 5ms/step - accuracy: 0.6789 - loss: 1.2523 - val_accuracy: 0.8408 - val_loss: 0.9317\n",
      "Epoch 9/50\n",
      "\u001b[1m421/430\u001b[0m \u001b[32m━━━━━━━━━━━━━━━━━━━\u001b[0m\u001b[37m━\u001b[0m \u001b[1m0s\u001b[0m 4ms/step - accuracy: 0.7031 - loss: 1.0994\n",
      "Epoch 9: val_accuracy improved from 0.84080 to 0.85160, saving model to /kaggle/working/MyCheckpoint/best_model-09-0.85.keras\n",
      "\u001b[1m430/430\u001b[0m \u001b[32m━━━━━━━━━━━━━━━━━━━━\u001b[0m\u001b[37m\u001b[0m \u001b[1m2s\u001b[0m 5ms/step - accuracy: 0.7031 - loss: 1.0988 - val_accuracy: 0.8516 - val_loss: 0.7903\n",
      "Epoch 10/50\n",
      "\u001b[1m420/430\u001b[0m \u001b[32m━━━━━━━━━━━━━━━━━━━\u001b[0m\u001b[37m━\u001b[0m \u001b[1m0s\u001b[0m 4ms/step - accuracy: 0.7205 - loss: 0.9926\n",
      "Epoch 10: val_accuracy improved from 0.85160 to 0.86440, saving model to /kaggle/working/MyCheckpoint/best_model-10-0.86.keras\n",
      "\u001b[1m430/430\u001b[0m \u001b[32m━━━━━━━━━━━━━━━━━━━━\u001b[0m\u001b[37m\u001b[0m \u001b[1m2s\u001b[0m 5ms/step - accuracy: 0.7206 - loss: 0.9920 - val_accuracy: 0.8644 - val_loss: 0.6867\n",
      "Epoch 11/50\n",
      "\u001b[1m421/430\u001b[0m \u001b[32m━━━━━━━━━━━━━━━━━━━\u001b[0m\u001b[37m━\u001b[0m \u001b[1m0s\u001b[0m 4ms/step - accuracy: 0.7345 - loss: 0.9115\n",
      "Epoch 11: val_accuracy improved from 0.86440 to 0.87440, saving model to /kaggle/working/MyCheckpoint/best_model-11-0.87.keras\n",
      "\u001b[1m430/430\u001b[0m \u001b[32m━━━━━━━━━━━━━━━━━━━━\u001b[0m\u001b[37m\u001b[0m \u001b[1m2s\u001b[0m 5ms/step - accuracy: 0.7346 - loss: 0.9110 - val_accuracy: 0.8744 - val_loss: 0.6104\n",
      "Epoch 12/50\n",
      "\u001b[1m421/430\u001b[0m \u001b[32m━━━━━━━━━━━━━━━━━━━\u001b[0m\u001b[37m━\u001b[0m \u001b[1m0s\u001b[0m 4ms/step - accuracy: 0.7509 - loss: 0.8411\n",
      "Epoch 12: val_accuracy improved from 0.87440 to 0.88280, saving model to /kaggle/working/MyCheckpoint/best_model-12-0.88.keras\n",
      "\u001b[1m430/430\u001b[0m \u001b[32m━━━━━━━━━━━━━━━━━━━━\u001b[0m\u001b[37m\u001b[0m \u001b[1m2s\u001b[0m 5ms/step - accuracy: 0.7510 - loss: 0.8408 - val_accuracy: 0.8828 - val_loss: 0.5533\n",
      "Epoch 13/50\n",
      "\u001b[1m421/430\u001b[0m \u001b[32m━━━━━━━━━━━━━━━━━━━\u001b[0m\u001b[37m━\u001b[0m \u001b[1m0s\u001b[0m 4ms/step - accuracy: 0.7592 - loss: 0.7918\n",
      "Epoch 13: val_accuracy improved from 0.88280 to 0.88800, saving model to /kaggle/working/MyCheckpoint/best_model-13-0.89.keras\n",
      "\u001b[1m430/430\u001b[0m \u001b[32m━━━━━━━━━━━━━━━━━━━━\u001b[0m\u001b[37m\u001b[0m \u001b[1m2s\u001b[0m 5ms/step - accuracy: 0.7593 - loss: 0.7915 - val_accuracy: 0.8880 - val_loss: 0.5085\n",
      "Epoch 14/50\n",
      "\u001b[1m420/430\u001b[0m \u001b[32m━━━━━━━━━━━━━━━━━━━\u001b[0m\u001b[37m━\u001b[0m \u001b[1m0s\u001b[0m 4ms/step - accuracy: 0.7766 - loss: 0.7487\n",
      "Epoch 14: val_accuracy improved from 0.88800 to 0.89380, saving model to /kaggle/working/MyCheckpoint/best_model-14-0.89.keras\n",
      "\u001b[1m430/430\u001b[0m \u001b[32m━━━━━━━━━━━━━━━━━━━━\u001b[0m\u001b[37m\u001b[0m \u001b[1m2s\u001b[0m 5ms/step - accuracy: 0.7766 - loss: 0.7485 - val_accuracy: 0.8938 - val_loss: 0.4733\n",
      "Epoch 15/50\n",
      "\u001b[1m426/430\u001b[0m \u001b[32m━━━━━━━━━━━━━━━━━━━\u001b[0m\u001b[37m━\u001b[0m \u001b[1m0s\u001b[0m 4ms/step - accuracy: 0.7856 - loss: 0.7044\n",
      "Epoch 15: val_accuracy improved from 0.89380 to 0.89720, saving model to /kaggle/working/MyCheckpoint/best_model-15-0.90.keras\n",
      "\u001b[1m430/430\u001b[0m \u001b[32m━━━━━━━━━━━━━━━━━━━━\u001b[0m\u001b[37m\u001b[0m \u001b[1m2s\u001b[0m 5ms/step - accuracy: 0.7856 - loss: 0.7044 - val_accuracy: 0.8972 - val_loss: 0.4446\n",
      "Epoch 16/50\n",
      "\u001b[1m421/430\u001b[0m \u001b[32m━━━━━━━━━━━━━━━━━━━\u001b[0m\u001b[37m━\u001b[0m \u001b[1m0s\u001b[0m 4ms/step - accuracy: 0.7890 - loss: 0.6961\n",
      "Epoch 16: val_accuracy improved from 0.89720 to 0.89920, saving model to /kaggle/working/MyCheckpoint/best_model-16-0.90.keras\n",
      "\u001b[1m430/430\u001b[0m \u001b[32m━━━━━━━━━━━━━━━━━━━━\u001b[0m\u001b[37m\u001b[0m \u001b[1m2s\u001b[0m 5ms/step - accuracy: 0.7891 - loss: 0.6957 - val_accuracy: 0.8992 - val_loss: 0.4211\n",
      "Epoch 17/50\n",
      "\u001b[1m421/430\u001b[0m \u001b[32m━━━━━━━━━━━━━━━━━━━\u001b[0m\u001b[37m━\u001b[0m \u001b[1m0s\u001b[0m 4ms/step - accuracy: 0.7988 - loss: 0.6599\n",
      "Epoch 17: val_accuracy improved from 0.89920 to 0.90280, saving model to /kaggle/working/MyCheckpoint/best_model-17-0.90.keras\n",
      "\u001b[1m430/430\u001b[0m \u001b[32m━━━━━━━━━━━━━━━━━━━━\u001b[0m\u001b[37m\u001b[0m \u001b[1m2s\u001b[0m 5ms/step - accuracy: 0.7988 - loss: 0.6598 - val_accuracy: 0.9028 - val_loss: 0.4018\n",
      "Epoch 18/50\n",
      "\u001b[1m421/430\u001b[0m \u001b[32m━━━━━━━━━━━━━━━━━━━\u001b[0m\u001b[37m━\u001b[0m \u001b[1m0s\u001b[0m 4ms/step - accuracy: 0.8019 - loss: 0.6389\n",
      "Epoch 18: val_accuracy improved from 0.90280 to 0.90480, saving model to /kaggle/working/MyCheckpoint/best_model-18-0.90.keras\n",
      "\u001b[1m430/430\u001b[0m \u001b[32m━━━━━━━━━━━━━━━━━━━━\u001b[0m\u001b[37m\u001b[0m \u001b[1m2s\u001b[0m 5ms/step - accuracy: 0.8020 - loss: 0.6388 - val_accuracy: 0.9048 - val_loss: 0.3845\n",
      "Epoch 19/50\n",
      "\u001b[1m424/430\u001b[0m \u001b[32m━━━━━━━━━━━━━━━━━━━\u001b[0m\u001b[37m━\u001b[0m \u001b[1m0s\u001b[0m 4ms/step - accuracy: 0.8119 - loss: 0.6147\n",
      "Epoch 19: val_accuracy improved from 0.90480 to 0.90920, saving model to /kaggle/working/MyCheckpoint/best_model-19-0.91.keras\n",
      "\u001b[1m430/430\u001b[0m \u001b[32m━━━━━━━━━━━━━━━━━━━━\u001b[0m\u001b[37m\u001b[0m \u001b[1m2s\u001b[0m 5ms/step - accuracy: 0.8119 - loss: 0.6146 - val_accuracy: 0.9092 - val_loss: 0.3696\n",
      "Epoch 20/50\n",
      "\u001b[1m421/430\u001b[0m \u001b[32m━━━━━━━━━━━━━━━━━━━\u001b[0m\u001b[37m━\u001b[0m \u001b[1m0s\u001b[0m 4ms/step - accuracy: 0.8168 - loss: 0.5990\n",
      "Epoch 20: val_accuracy improved from 0.90920 to 0.91200, saving model to /kaggle/working/MyCheckpoint/best_model-20-0.91.keras\n",
      "\u001b[1m430/430\u001b[0m \u001b[32m━━━━━━━━━━━━━━━━━━━━\u001b[0m\u001b[37m\u001b[0m \u001b[1m2s\u001b[0m 5ms/step - accuracy: 0.8169 - loss: 0.5989 - val_accuracy: 0.9120 - val_loss: 0.3567\n",
      "Epoch 21/50\n",
      "\u001b[1m423/430\u001b[0m \u001b[32m━━━━━━━━━━━━━━━━━━━\u001b[0m\u001b[37m━\u001b[0m \u001b[1m0s\u001b[0m 4ms/step - accuracy: 0.8236 - loss: 0.5872\n",
      "Epoch 21: val_accuracy improved from 0.91200 to 0.91560, saving model to /kaggle/working/MyCheckpoint/best_model-21-0.92.keras\n",
      "\u001b[1m430/430\u001b[0m \u001b[32m━━━━━━━━━━━━━━━━━━━━\u001b[0m\u001b[37m\u001b[0m \u001b[1m2s\u001b[0m 5ms/step - accuracy: 0.8236 - loss: 0.5870 - val_accuracy: 0.9156 - val_loss: 0.3454\n",
      "Epoch 22/50\n",
      "\u001b[1m424/430\u001b[0m \u001b[32m━━━━━━━━━━━━━━━━━━━\u001b[0m\u001b[37m━\u001b[0m \u001b[1m0s\u001b[0m 4ms/step - accuracy: 0.8272 - loss: 0.5692\n",
      "Epoch 22: val_accuracy improved from 0.91560 to 0.91680, saving model to /kaggle/working/MyCheckpoint/best_model-22-0.92.keras\n",
      "\u001b[1m430/430\u001b[0m \u001b[32m━━━━━━━━━━━━━━━━━━━━\u001b[0m\u001b[37m\u001b[0m \u001b[1m2s\u001b[0m 5ms/step - accuracy: 0.8272 - loss: 0.5691 - val_accuracy: 0.9168 - val_loss: 0.3351\n",
      "Epoch 23/50\n",
      "\u001b[1m428/430\u001b[0m \u001b[32m━━━━━━━━━━━━━━━━━━━\u001b[0m\u001b[37m━\u001b[0m \u001b[1m0s\u001b[0m 4ms/step - accuracy: 0.8313 - loss: 0.5565\n",
      "Epoch 23: val_accuracy improved from 0.91680 to 0.91780, saving model to /kaggle/working/MyCheckpoint/best_model-23-0.92.keras\n",
      "\u001b[1m430/430\u001b[0m \u001b[32m━━━━━━━━━━━━━━━━━━━━\u001b[0m\u001b[37m\u001b[0m \u001b[1m2s\u001b[0m 5ms/step - accuracy: 0.8313 - loss: 0.5564 - val_accuracy: 0.9178 - val_loss: 0.3262\n",
      "Epoch 24/50\n",
      "\u001b[1m430/430\u001b[0m \u001b[32m━━━━━━━━━━━━━━━━━━━━\u001b[0m\u001b[37m\u001b[0m \u001b[1m0s\u001b[0m 4ms/step - accuracy: 0.8332 - loss: 0.5454\n",
      "Epoch 24: val_accuracy improved from 0.91780 to 0.92020, saving model to /kaggle/working/MyCheckpoint/best_model-24-0.92.keras\n",
      "\u001b[1m430/430\u001b[0m \u001b[32m━━━━━━━━━━━━━━━━━━━━\u001b[0m\u001b[37m\u001b[0m \u001b[1m2s\u001b[0m 5ms/step - accuracy: 0.8332 - loss: 0.5454 - val_accuracy: 0.9202 - val_loss: 0.3179\n",
      "Epoch 25/50\n",
      "\u001b[1m421/430\u001b[0m \u001b[32m━━━━━━━━━━━━━━━━━━━\u001b[0m\u001b[37m━\u001b[0m \u001b[1m0s\u001b[0m 4ms/step - accuracy: 0.8374 - loss: 0.5309\n",
      "Epoch 25: val_accuracy improved from 0.92020 to 0.92140, saving model to /kaggle/working/MyCheckpoint/best_model-25-0.92.keras\n",
      "\u001b[1m430/430\u001b[0m \u001b[32m━━━━━━━━━━━━━━━━━━━━\u001b[0m\u001b[37m\u001b[0m \u001b[1m2s\u001b[0m 5ms/step - accuracy: 0.8374 - loss: 0.5309 - val_accuracy: 0.9214 - val_loss: 0.3101\n",
      "Epoch 26/50\n",
      "\u001b[1m422/430\u001b[0m \u001b[32m━━━━━━━━━━━━━━━━━━━\u001b[0m\u001b[37m━\u001b[0m \u001b[1m0s\u001b[0m 4ms/step - accuracy: 0.8408 - loss: 0.5264\n",
      "Epoch 26: val_accuracy improved from 0.92140 to 0.92200, saving model to /kaggle/working/MyCheckpoint/best_model-26-0.92.keras\n",
      "\u001b[1m430/430\u001b[0m \u001b[32m━━━━━━━━━━━━━━━━━━━━\u001b[0m\u001b[37m\u001b[0m \u001b[1m2s\u001b[0m 5ms/step - accuracy: 0.8408 - loss: 0.5263 - val_accuracy: 0.9220 - val_loss: 0.3037\n",
      "Epoch 27/50\n",
      "\u001b[1m421/430\u001b[0m \u001b[32m━━━━━━━━━━━━━━━━━━━\u001b[0m\u001b[37m━\u001b[0m \u001b[1m0s\u001b[0m 4ms/step - accuracy: 0.8448 - loss: 0.5072\n",
      "Epoch 27: val_accuracy improved from 0.92200 to 0.92340, saving model to /kaggle/working/MyCheckpoint/best_model-27-0.92.keras\n",
      "\u001b[1m430/430\u001b[0m \u001b[32m━━━━━━━━━━━━━━━━━━━━\u001b[0m\u001b[37m\u001b[0m \u001b[1m2s\u001b[0m 5ms/step - accuracy: 0.8448 - loss: 0.5074 - val_accuracy: 0.9234 - val_loss: 0.2977\n",
      "Epoch 28/50\n",
      "\u001b[1m421/430\u001b[0m \u001b[32m━━━━━━━━━━━━━━━━━━━\u001b[0m\u001b[37m━\u001b[0m \u001b[1m0s\u001b[0m 4ms/step - accuracy: 0.8474 - loss: 0.5035\n",
      "Epoch 28: val_accuracy improved from 0.92340 to 0.92540, saving model to /kaggle/working/MyCheckpoint/best_model-28-0.93.keras\n",
      "\u001b[1m430/430\u001b[0m \u001b[32m━━━━━━━━━━━━━━━━━━━━\u001b[0m\u001b[37m\u001b[0m \u001b[1m2s\u001b[0m 5ms/step - accuracy: 0.8474 - loss: 0.5034 - val_accuracy: 0.9254 - val_loss: 0.2915\n",
      "Epoch 29/50\n",
      "\u001b[1m428/430\u001b[0m \u001b[32m━━━━━━━━━━━━━━━━━━━\u001b[0m\u001b[37m━\u001b[0m \u001b[1m0s\u001b[0m 5ms/step - accuracy: 0.8490 - loss: 0.4945\n",
      "Epoch 29: val_accuracy improved from 0.92540 to 0.92600, saving model to /kaggle/working/MyCheckpoint/best_model-29-0.93.keras\n",
      "\u001b[1m430/430\u001b[0m \u001b[32m━━━━━━━━━━━━━━━━━━━━\u001b[0m\u001b[37m\u001b[0m \u001b[1m2s\u001b[0m 5ms/step - accuracy: 0.8490 - loss: 0.4945 - val_accuracy: 0.9260 - val_loss: 0.2860\n",
      "Epoch 30/50\n",
      "\u001b[1m421/430\u001b[0m \u001b[32m━━━━━━━━━━━━━━━━━━━\u001b[0m\u001b[37m━\u001b[0m \u001b[1m0s\u001b[0m 4ms/step - accuracy: 0.8520 - loss: 0.4895\n",
      "Epoch 30: val_accuracy did not improve from 0.92600\n",
      "\u001b[1m430/430\u001b[0m \u001b[32m━━━━━━━━━━━━━━━━━━━━\u001b[0m\u001b[37m\u001b[0m \u001b[1m2s\u001b[0m 5ms/step - accuracy: 0.8520 - loss: 0.4894 - val_accuracy: 0.9258 - val_loss: 0.2810\n",
      "Epoch 31/50\n",
      "\u001b[1m421/430\u001b[0m \u001b[32m━━━━━━━━━━━━━━━━━━━\u001b[0m\u001b[37m━\u001b[0m \u001b[1m0s\u001b[0m 4ms/step - accuracy: 0.8559 - loss: 0.4797\n",
      "Epoch 31: val_accuracy did not improve from 0.92600\n",
      "\u001b[1m430/430\u001b[0m \u001b[32m━━━━━━━━━━━━━━━━━━━━\u001b[0m\u001b[37m\u001b[0m \u001b[1m2s\u001b[0m 5ms/step - accuracy: 0.8559 - loss: 0.4797 - val_accuracy: 0.9258 - val_loss: 0.2765\n",
      "Epoch 32/50\n",
      "\u001b[1m421/430\u001b[0m \u001b[32m━━━━━━━━━━━━━━━━━━━\u001b[0m\u001b[37m━\u001b[0m \u001b[1m0s\u001b[0m 4ms/step - accuracy: 0.8552 - loss: 0.4749\n",
      "Epoch 32: val_accuracy improved from 0.92600 to 0.92720, saving model to /kaggle/working/MyCheckpoint/best_model-32-0.93.keras\n",
      "\u001b[1m430/430\u001b[0m \u001b[32m━━━━━━━━━━━━━━━━━━━━\u001b[0m\u001b[37m\u001b[0m \u001b[1m2s\u001b[0m 5ms/step - accuracy: 0.8552 - loss: 0.4749 - val_accuracy: 0.9272 - val_loss: 0.2719\n",
      "Epoch 33/50\n",
      "\u001b[1m421/430\u001b[0m \u001b[32m━━━━━━━━━━━━━━━━━━━\u001b[0m\u001b[37m━\u001b[0m \u001b[1m0s\u001b[0m 4ms/step - accuracy: 0.8579 - loss: 0.4694\n",
      "Epoch 33: val_accuracy improved from 0.92720 to 0.92860, saving model to /kaggle/working/MyCheckpoint/best_model-33-0.93.keras\n",
      "\u001b[1m430/430\u001b[0m \u001b[32m━━━━━━━━━━━━━━━━━━━━\u001b[0m\u001b[37m\u001b[0m \u001b[1m2s\u001b[0m 5ms/step - accuracy: 0.8579 - loss: 0.4693 - val_accuracy: 0.9286 - val_loss: 0.2674\n",
      "Epoch 34/50\n",
      "\u001b[1m429/430\u001b[0m \u001b[32m━━━━━━━━━━━━━━━━━━━\u001b[0m\u001b[37m━\u001b[0m \u001b[1m0s\u001b[0m 4ms/step - accuracy: 0.8599 - loss: 0.4627\n",
      "Epoch 34: val_accuracy improved from 0.92860 to 0.93020, saving model to /kaggle/working/MyCheckpoint/best_model-34-0.93.keras\n",
      "\u001b[1m430/430\u001b[0m \u001b[32m━━━━━━━━━━━━━━━━━━━━\u001b[0m\u001b[37m\u001b[0m \u001b[1m2s\u001b[0m 5ms/step - accuracy: 0.8599 - loss: 0.4626 - val_accuracy: 0.9302 - val_loss: 0.2632\n",
      "Epoch 35/50\n",
      "\u001b[1m421/430\u001b[0m \u001b[32m━━━━━━━━━━━━━━━━━━━\u001b[0m\u001b[37m━\u001b[0m \u001b[1m0s\u001b[0m 4ms/step - accuracy: 0.8580 - loss: 0.4619\n",
      "Epoch 35: val_accuracy did not improve from 0.93020\n",
      "\u001b[1m430/430\u001b[0m \u001b[32m━━━━━━━━━━━━━━━━━━━━\u001b[0m\u001b[37m\u001b[0m \u001b[1m2s\u001b[0m 4ms/step - accuracy: 0.8581 - loss: 0.4618 - val_accuracy: 0.9302 - val_loss: 0.2595\n",
      "Epoch 36/50\n",
      "\u001b[1m421/430\u001b[0m \u001b[32m━━━━━━━━━━━━━━━━━━━\u001b[0m\u001b[37m━\u001b[0m \u001b[1m0s\u001b[0m 4ms/step - accuracy: 0.8647 - loss: 0.4453\n",
      "Epoch 36: val_accuracy improved from 0.93020 to 0.93200, saving model to /kaggle/working/MyCheckpoint/best_model-36-0.93.keras\n",
      "\u001b[1m430/430\u001b[0m \u001b[32m━━━━━━━━━━━━━━━━━━━━\u001b[0m\u001b[37m\u001b[0m \u001b[1m2s\u001b[0m 5ms/step - accuracy: 0.8647 - loss: 0.4454 - val_accuracy: 0.9320 - val_loss: 0.2559\n",
      "Epoch 37/50\n",
      "\u001b[1m421/430\u001b[0m \u001b[32m━━━━━━━━━━━━━━━━━━━\u001b[0m\u001b[37m━\u001b[0m \u001b[1m0s\u001b[0m 4ms/step - accuracy: 0.8648 - loss: 0.4465\n",
      "Epoch 37: val_accuracy did not improve from 0.93200\n",
      "\u001b[1m430/430\u001b[0m \u001b[32m━━━━━━━━━━━━━━━━━━━━\u001b[0m\u001b[37m\u001b[0m \u001b[1m2s\u001b[0m 4ms/step - accuracy: 0.8648 - loss: 0.4465 - val_accuracy: 0.9314 - val_loss: 0.2527\n",
      "Epoch 38/50\n",
      "\u001b[1m420/430\u001b[0m \u001b[32m━━━━━━━━━━━━━━━━━━━\u001b[0m\u001b[37m━\u001b[0m \u001b[1m0s\u001b[0m 4ms/step - accuracy: 0.8671 - loss: 0.4415\n",
      "Epoch 38: val_accuracy improved from 0.93200 to 0.93360, saving model to /kaggle/working/MyCheckpoint/best_model-38-0.93.keras\n",
      "\u001b[1m430/430\u001b[0m \u001b[32m━━━━━━━━━━━━━━━━━━━━\u001b[0m\u001b[37m\u001b[0m \u001b[1m2s\u001b[0m 5ms/step - accuracy: 0.8671 - loss: 0.4414 - val_accuracy: 0.9336 - val_loss: 0.2491\n",
      "Epoch 39/50\n",
      "\u001b[1m419/430\u001b[0m \u001b[32m━━━━━━━━━━━━━━━━━━━\u001b[0m\u001b[37m━\u001b[0m \u001b[1m0s\u001b[0m 4ms/step - accuracy: 0.8702 - loss: 0.4320\n",
      "Epoch 39: val_accuracy did not improve from 0.93360\n",
      "\u001b[1m430/430\u001b[0m \u001b[32m━━━━━━━━━━━━━━━━━━━━\u001b[0m\u001b[37m\u001b[0m \u001b[1m2s\u001b[0m 5ms/step - accuracy: 0.8702 - loss: 0.4320 - val_accuracy: 0.9332 - val_loss: 0.2461\n",
      "Epoch 40/50\n",
      "\u001b[1m424/430\u001b[0m \u001b[32m━━━━━━━━━━━━━━━━━━━\u001b[0m\u001b[37m━\u001b[0m \u001b[1m0s\u001b[0m 4ms/step - accuracy: 0.8696 - loss: 0.4307\n",
      "Epoch 40: val_accuracy improved from 0.93360 to 0.93420, saving model to /kaggle/working/MyCheckpoint/best_model-40-0.93.keras\n",
      "\u001b[1m430/430\u001b[0m \u001b[32m━━━━━━━━━━━━━━━━━━━━\u001b[0m\u001b[37m\u001b[0m \u001b[1m2s\u001b[0m 5ms/step - accuracy: 0.8696 - loss: 0.4307 - val_accuracy: 0.9342 - val_loss: 0.2432\n",
      "Epoch 41/50\n",
      "\u001b[1m421/430\u001b[0m \u001b[32m━━━━━━━━━━━━━━━━━━━\u001b[0m\u001b[37m━\u001b[0m \u001b[1m0s\u001b[0m 4ms/step - accuracy: 0.8690 - loss: 0.4285\n",
      "Epoch 41: val_accuracy improved from 0.93420 to 0.93440, saving model to /kaggle/working/MyCheckpoint/best_model-41-0.93.keras\n",
      "\u001b[1m430/430\u001b[0m \u001b[32m━━━━━━━━━━━━━━━━━━━━\u001b[0m\u001b[37m\u001b[0m \u001b[1m2s\u001b[0m 5ms/step - accuracy: 0.8690 - loss: 0.4284 - val_accuracy: 0.9344 - val_loss: 0.2403\n",
      "Epoch 42/50\n",
      "\u001b[1m422/430\u001b[0m \u001b[32m━━━━━━━━━━━━━━━━━━━\u001b[0m\u001b[37m━\u001b[0m \u001b[1m0s\u001b[0m 4ms/step - accuracy: 0.8701 - loss: 0.4265\n",
      "Epoch 42: val_accuracy improved from 0.93440 to 0.93540, saving model to /kaggle/working/MyCheckpoint/best_model-42-0.94.keras\n",
      "\u001b[1m430/430\u001b[0m \u001b[32m━━━━━━━━━━━━━━━━━━━━\u001b[0m\u001b[37m\u001b[0m \u001b[1m2s\u001b[0m 5ms/step - accuracy: 0.8702 - loss: 0.4264 - val_accuracy: 0.9354 - val_loss: 0.2373\n",
      "Epoch 43/50\n",
      "\u001b[1m421/430\u001b[0m \u001b[32m━━━━━━━━━━━━━━━━━━━\u001b[0m\u001b[37m━\u001b[0m \u001b[1m0s\u001b[0m 4ms/step - accuracy: 0.8750 - loss: 0.4123\n",
      "Epoch 43: val_accuracy did not improve from 0.93540\n",
      "\u001b[1m430/430\u001b[0m \u001b[32m━━━━━━━━━━━━━━━━━━━━\u001b[0m\u001b[37m\u001b[0m \u001b[1m2s\u001b[0m 4ms/step - accuracy: 0.8749 - loss: 0.4124 - val_accuracy: 0.9354 - val_loss: 0.2346\n",
      "Epoch 44/50\n",
      "\u001b[1m419/430\u001b[0m \u001b[32m━━━━━━━━━━━━━━━━━━━\u001b[0m\u001b[37m━\u001b[0m \u001b[1m0s\u001b[0m 4ms/step - accuracy: 0.8748 - loss: 0.4183\n",
      "Epoch 44: val_accuracy improved from 0.93540 to 0.93640, saving model to /kaggle/working/MyCheckpoint/best_model-44-0.94.keras\n",
      "\u001b[1m430/430\u001b[0m \u001b[32m━━━━━━━━━━━━━━━━━━━━\u001b[0m\u001b[37m\u001b[0m \u001b[1m2s\u001b[0m 5ms/step - accuracy: 0.8748 - loss: 0.4182 - val_accuracy: 0.9364 - val_loss: 0.2324\n",
      "Epoch 45/50\n",
      "\u001b[1m421/430\u001b[0m \u001b[32m━━━━━━━━━━━━━━━━━━━\u001b[0m\u001b[37m━\u001b[0m \u001b[1m0s\u001b[0m 4ms/step - accuracy: 0.8783 - loss: 0.4038\n",
      "Epoch 45: val_accuracy improved from 0.93640 to 0.93680, saving model to /kaggle/working/MyCheckpoint/best_model-45-0.94.keras\n",
      "\u001b[1m430/430\u001b[0m \u001b[32m━━━━━━━━━━━━━━━━━━━━\u001b[0m\u001b[37m\u001b[0m \u001b[1m2s\u001b[0m 5ms/step - accuracy: 0.8783 - loss: 0.4039 - val_accuracy: 0.9368 - val_loss: 0.2299\n",
      "Epoch 46/50\n",
      "\u001b[1m419/430\u001b[0m \u001b[32m━━━━━━━━━━━━━━━━━━━\u001b[0m\u001b[37m━\u001b[0m \u001b[1m0s\u001b[0m 4ms/step - accuracy: 0.8761 - loss: 0.4082\n",
      "Epoch 46: val_accuracy improved from 0.93680 to 0.93720, saving model to /kaggle/working/MyCheckpoint/best_model-46-0.94.keras\n",
      "\u001b[1m430/430\u001b[0m \u001b[32m━━━━━━━━━━━━━━━━━━━━\u001b[0m\u001b[37m\u001b[0m \u001b[1m2s\u001b[0m 5ms/step - accuracy: 0.8761 - loss: 0.4082 - val_accuracy: 0.9372 - val_loss: 0.2278\n",
      "Epoch 47/50\n",
      "\u001b[1m421/430\u001b[0m \u001b[32m━━━━━━━━━━━━━━━━━━━\u001b[0m\u001b[37m━\u001b[0m \u001b[1m0s\u001b[0m 4ms/step - accuracy: 0.8777 - loss: 0.4088\n",
      "Epoch 47: val_accuracy improved from 0.93720 to 0.93780, saving model to /kaggle/working/MyCheckpoint/best_model-47-0.94.keras\n",
      "\u001b[1m430/430\u001b[0m \u001b[32m━━━━━━━━━━━━━━━━━━━━\u001b[0m\u001b[37m\u001b[0m \u001b[1m2s\u001b[0m 5ms/step - accuracy: 0.8778 - loss: 0.4086 - val_accuracy: 0.9378 - val_loss: 0.2251\n",
      "Epoch 48/50\n",
      "\u001b[1m421/430\u001b[0m \u001b[32m━━━━━━━━━━━━━━━━━━━\u001b[0m\u001b[37m━\u001b[0m \u001b[1m0s\u001b[0m 4ms/step - accuracy: 0.8819 - loss: 0.3981\n",
      "Epoch 48: val_accuracy improved from 0.93780 to 0.93800, saving model to /kaggle/working/MyCheckpoint/best_model-48-0.94.keras\n",
      "\u001b[1m430/430\u001b[0m \u001b[32m━━━━━━━━━━━━━━━━━━━━\u001b[0m\u001b[37m\u001b[0m \u001b[1m2s\u001b[0m 5ms/step - accuracy: 0.8819 - loss: 0.3981 - val_accuracy: 0.9380 - val_loss: 0.2228\n",
      "Epoch 49/50\n",
      "\u001b[1m429/430\u001b[0m \u001b[32m━━━━━━━━━━━━━━━━━━━\u001b[0m\u001b[37m━\u001b[0m \u001b[1m0s\u001b[0m 4ms/step - accuracy: 0.8840 - loss: 0.3868\n",
      "Epoch 49: val_accuracy improved from 0.93800 to 0.93940, saving model to /kaggle/working/MyCheckpoint/best_model-49-0.94.keras\n",
      "\u001b[1m430/430\u001b[0m \u001b[32m━━━━━━━━━━━━━━━━━━━━\u001b[0m\u001b[37m\u001b[0m \u001b[1m2s\u001b[0m 5ms/step - accuracy: 0.8840 - loss: 0.3868 - val_accuracy: 0.9394 - val_loss: 0.2202\n",
      "Epoch 50/50\n",
      "\u001b[1m421/430\u001b[0m \u001b[32m━━━━━━━━━━━━━━━━━━━\u001b[0m\u001b[37m━\u001b[0m \u001b[1m0s\u001b[0m 4ms/step - accuracy: 0.8846 - loss: 0.3845\n",
      "Epoch 50: val_accuracy improved from 0.93940 to 0.94040, saving model to /kaggle/working/MyCheckpoint/best_model-50-0.94.keras\n",
      "\u001b[1m430/430\u001b[0m \u001b[32m━━━━━━━━━━━━━━━━━━━━\u001b[0m\u001b[37m\u001b[0m \u001b[1m2s\u001b[0m 5ms/step - accuracy: 0.8845 - loss: 0.3846 - val_accuracy: 0.9404 - val_loss: 0.2183\n",
      "The model has successfully trained\n",
      "Saving the model\n"
     ]
    }
   ],
   "source": [
    "epochs = 50\n",
    "hist = model.fit(x_train, y_train,batch_size=batch_size,epochs=epochs,verbose=1,validation_data=(x_val, y_val), callbacks=[checkpoint,early_stop])\n",
    "print(\"The model has successfully trained\")\n",
    "\n",
    "model.save('mnist.h5')\n",
    "\n",
    "print(\"Saving the model\")"
   ]
  },
  {
   "cell_type": "markdown",
   "id": "761fc58f",
   "metadata": {
    "papermill": {
     "duration": 0.162576,
     "end_time": "2024-08-29T17:36:08.040502",
     "exception": false,
     "start_time": "2024-08-29T17:36:07.877926",
     "status": "completed"
    },
    "tags": []
   },
   "source": [
    "## **EVALUATING MODEL**"
   ]
  },
  {
   "cell_type": "code",
   "execution_count": 11,
   "id": "95e7bb6d",
   "metadata": {
    "execution": {
     "iopub.execute_input": "2024-08-29T17:36:08.413385Z",
     "iopub.status.busy": "2024-08-29T17:36:08.412422Z",
     "iopub.status.idle": "2024-08-29T17:36:11.700644Z",
     "shell.execute_reply": "2024-08-29T17:36:11.699568Z"
    },
    "papermill": {
     "duration": 3.499465,
     "end_time": "2024-08-29T17:36:11.702732",
     "exception": false,
     "start_time": "2024-08-29T17:36:08.203267",
     "status": "completed"
    },
    "tags": []
   },
   "outputs": [
    {
     "name": "stdout",
     "output_type": "stream",
     "text": [
      "Training Accuracy: 91.58% \n",
      "Training loss: 28.79%\n"
     ]
    }
   ],
   "source": [
    "scores = model.evaluate(x_train,y_train, verbose=0)\n",
    "print(\"Training Accuracy: %.2f%% \"% (scores[1]*100))\n",
    "print('Training loss: %.2f%%' %(scores[0]*100))\n"
   ]
  },
  {
   "cell_type": "code",
   "execution_count": 12,
   "id": "c29dc577",
   "metadata": {
    "execution": {
     "iopub.execute_input": "2024-08-29T17:36:12.044876Z",
     "iopub.status.busy": "2024-08-29T17:36:12.044111Z",
     "iopub.status.idle": "2024-08-29T17:36:12.330229Z",
     "shell.execute_reply": "2024-08-29T17:36:12.329068Z"
    },
    "papermill": {
     "duration": 0.462607,
     "end_time": "2024-08-29T17:36:12.332346",
     "exception": false,
     "start_time": "2024-08-29T17:36:11.869739",
     "status": "completed"
    },
    "tags": []
   },
   "outputs": [
    {
     "name": "stdout",
     "output_type": "stream",
     "text": [
      "Validation Accuracy: 94.04% \n"
     ]
    }
   ],
   "source": [
    "scores = model.evaluate(x_val,y_val, verbose=0)\n",
    "print(\"Validation Accuracy: %.2f%% \" % (scores[1]*100))"
   ]
  },
  {
   "cell_type": "code",
   "execution_count": 13,
   "id": "0db06f74",
   "metadata": {
    "execution": {
     "iopub.execute_input": "2024-08-29T17:36:12.663121Z",
     "iopub.status.busy": "2024-08-29T17:36:12.662221Z",
     "iopub.status.idle": "2024-08-29T17:36:13.520735Z",
     "shell.execute_reply": "2024-08-29T17:36:13.519644Z"
    },
    "papermill": {
     "duration": 1.02603,
     "end_time": "2024-08-29T17:36:13.522774",
     "exception": false,
     "start_time": "2024-08-29T17:36:12.496744",
     "status": "completed"
    },
    "tags": []
   },
   "outputs": [
    {
     "name": "stdout",
     "output_type": "stream",
     "text": [
      "Test Accuracy: 92.40% \n"
     ]
    }
   ],
   "source": [
    "scores = model.evaluate(x_test,y_test, verbose=0)\n",
    "print(\"Test Accuracy: %.2f%% \" % (scores[1]*100))\n"
   ]
  },
  {
   "cell_type": "code",
   "execution_count": 14,
   "id": "acdd4e88",
   "metadata": {
    "execution": {
     "iopub.execute_input": "2024-08-29T17:36:13.870110Z",
     "iopub.status.busy": "2024-08-29T17:36:13.869401Z",
     "iopub.status.idle": "2024-08-29T17:36:14.241807Z",
     "shell.execute_reply": "2024-08-29T17:36:14.240897Z"
    },
    "papermill": {
     "duration": 0.555873,
     "end_time": "2024-08-29T17:36:14.244075",
     "exception": false,
     "start_time": "2024-08-29T17:36:13.688202",
     "status": "completed"
    },
    "tags": []
   },
   "outputs": [
    {
     "data": {
      "text/plain": [
       "Text(0, 0.5, 'acc')"
      ]
     },
     "execution_count": 14,
     "metadata": {},
     "output_type": "execute_result"
    },
    {
     "data": {
      "image/png": "[encoded data removed]",
      "text/plain": [
       "<Figure size 640x480 with 1 Axes>"
      ]
     },
     "metadata": {},
     "output_type": "display_data"
    }
   ],
   "source": [
    "## PLOTTING THE MODEL TRAINNING DATA\n",
    "history = hist\n",
    "import matplotlib.pyplot as plt\n",
    "\n",
    "f, ax = plt.subplots()\n",
    "ax.plot([None] + history.history['accuracy'],'o-')\n",
    "ax.plot([None] + history.history['val_accuracy'], 'x-')\n",
    "ax.legend(['Train acc', 'Validation acc'], loc=0)\n",
    "ax.set_title('Training/Validation acc per Epoch')\n",
    "ax.set_xlabel('Epoch')\n",
    "ax.set_ylabel('acc')"
   ]
  },
  {
   "cell_type": "code",
   "execution_count": 15,
   "id": "898f331b",
   "metadata": {
    "execution": {
     "iopub.execute_input": "2024-08-29T17:36:14.575994Z",
     "iopub.status.busy": "2024-08-29T17:36:14.575347Z",
     "iopub.status.idle": "2024-08-29T17:36:15.100367Z",
     "shell.execute_reply": "2024-08-29T17:36:15.099433Z"
    },
    "papermill": {
     "duration": 0.692096,
     "end_time": "2024-08-29T17:36:15.102537",
     "exception": false,
     "start_time": "2024-08-29T17:36:14.410441",
     "status": "completed"
    },
    "tags": []
   },
   "outputs": [
    {
     "data": {
      "text/plain": [
       "Text(0, 0.5, 'Loss')"
      ]
     },
     "execution_count": 15,
     "metadata": {},
     "output_type": "execute_result"
    },
    {
     "data": {
      "image/png": "[encoded data removed]",
      "text/plain": [
       "<Figure size 640x480 with 1 Axes>"
      ]
     },
     "metadata": {},
     "output_type": "display_data"
    }
   ],
   "source": [
    "f, ax = plt.subplots()\n",
    "ax.plot([None] + history.history['loss'],'o-')\n",
    "ax.plot([None] + history.history['val_loss'], 'x-')\n",
    "ax.legend(['Train Loss', 'Validation Loss'], loc=0)\n",
    "ax.set_title('Training/Validation Loss per Epoch')\n",
    "ax.set_xlabel('Epoch')\n",
    "ax.set_ylabel('Loss')"
   ]
  },
  {
   "cell_type": "code",
   "execution_count": 16,
   "id": "07638708",
   "metadata": {
    "execution": {
     "iopub.execute_input": "2024-08-29T17:36:15.438038Z",
     "iopub.status.busy": "2024-08-29T17:36:15.437647Z",
     "iopub.status.idle": "2024-08-29T17:36:17.707998Z",
     "shell.execute_reply": "2024-08-29T17:36:17.707109Z"
    },
    "papermill": {
     "duration": 2.439375,
     "end_time": "2024-08-29T17:36:17.710454",
     "exception": false,
     "start_time": "2024-08-29T17:36:15.271079",
     "status": "completed"
    },
    "tags": []
   },
   "outputs": [
    {
     "name": "stdout",
     "output_type": "stream",
     "text": [
      "\u001b[1m313/313\u001b[0m \u001b[32m━━━━━━━━━━━━━━━━━━━━\u001b[0m\u001b[37m\u001b[0m \u001b[1m1s\u001b[0m 2ms/step\n"
     ]
    }
   ],
   "source": [
    "## EVLAUTAING MODEL USING CONFUSION MATRIX\n",
    "from sklearn.metrics import classification_report,confusion_matrix\n",
    "import matplotlib.pyplot as plt\n",
    "import seaborn as sns\n",
    "\n",
    "predictions = model.predict(x_test)\n",
    "confusion = confusion_matrix( np.argmax(y_test, axis=1), np.argmax(predictions, axis=1) )"
   ]
  },
  {
   "cell_type": "code",
   "execution_count": 17,
   "id": "f23abe8d",
   "metadata": {
    "execution": {
     "iopub.execute_input": "2024-08-29T17:36:18.051432Z",
     "iopub.status.busy": "2024-08-29T17:36:18.050510Z",
     "iopub.status.idle": "2024-08-29T17:36:18.448284Z",
     "shell.execute_reply": "2024-08-29T17:36:18.447370Z"
    },
    "papermill": {
     "duration": 0.569121,
     "end_time": "2024-08-29T17:36:18.450570",
     "exception": false,
     "start_time": "2024-08-29T17:36:17.881449",
     "status": "completed"
    },
    "tags": []
   },
   "outputs": [
    {
     "data": {
      "image/png": "[encoded data removed]",
      "text/plain": [
       "<Figure size 1000x700 with 1 Axes>"
      ]
     },
     "metadata": {},
     "output_type": "display_data"
    }
   ],
   "source": [
    "plt.figure(figsize=(10, 7))\n",
    "sns.heatmap(confusion, annot=True, fmt='d', cmap='Blues', cbar=False)\n",
    "\n",
    "plt.xlabel('Predicted Labels')\n",
    "plt.ylabel('True Labels')\n",
    "plt.title('Confusion Matrix')\n",
    "plt.show()"
   ]
  },
  {
   "cell_type": "code",
   "execution_count": 18,
   "id": "614ab7ca",
   "metadata": {
    "execution": {
     "iopub.execute_input": "2024-08-29T17:36:18.789738Z",
     "iopub.status.busy": "2024-08-29T17:36:18.788890Z",
     "iopub.status.idle": "2024-08-29T17:36:18.809221Z",
     "shell.execute_reply": "2024-08-29T17:36:18.808092Z"
    },
    "papermill": {
     "duration": 0.190449,
     "end_time": "2024-08-29T17:36:18.811278",
     "exception": false,
     "start_time": "2024-08-29T17:36:18.620829",
     "status": "completed"
    },
    "tags": []
   },
   "outputs": [
    {
     "name": "stdout",
     "output_type": "stream",
     "text": [
      "              precision    recall  f1-score   support\n",
      "\n",
      "           0       0.94      0.98      0.96       980\n",
      "           1       0.97      0.98      0.98      1135\n",
      "           2       0.93      0.90      0.91      1032\n",
      "           3       0.91      0.91      0.91      1010\n",
      "           4       0.93      0.92      0.92       982\n",
      "           5       0.93      0.87      0.90       892\n",
      "           6       0.92      0.95      0.94       958\n",
      "           7       0.94      0.90      0.92      1028\n",
      "           8       0.89      0.90      0.89       974\n",
      "           9       0.89      0.91      0.90      1009\n",
      "\n",
      "    accuracy                           0.92     10000\n",
      "   macro avg       0.92      0.92      0.92     10000\n",
      "weighted avg       0.92      0.92      0.92     10000\n",
      "\n"
     ]
    }
   ],
   "source": [
    "print(classification_report( np.argmax(y_test, axis=1),np.argmax(predictions, axis=1)))"
   ]
  },
  {
   "cell_type": "markdown",
   "id": "893e5908",
   "metadata": {
    "papermill": {
     "duration": 0.167417,
     "end_time": "2024-08-29T17:36:19.150965",
     "exception": false,
     "start_time": "2024-08-29T17:36:18.983548",
     "status": "completed"
    },
    "tags": []
   },
   "source": [
    "## **MODEL TESTING**"
   ]
  },
  {
   "cell_type": "code",
   "execution_count": 19,
   "id": "9e0eff77",
   "metadata": {
    "execution": {
     "iopub.execute_input": "2024-08-29T17:36:19.490552Z",
     "iopub.status.busy": "2024-08-29T17:36:19.489849Z",
     "iopub.status.idle": "2024-08-29T17:36:19.495606Z",
     "shell.execute_reply": "2024-08-29T17:36:19.494815Z"
    },
    "papermill": {
     "duration": 0.178382,
     "end_time": "2024-08-29T17:36:19.497433",
     "exception": false,
     "start_time": "2024-08-29T17:36:19.319051",
     "status": "completed"
    },
    "tags": []
   },
   "outputs": [],
   "source": [
    "from keras.models import load_model\n",
    "from PIL import ImageGrab, Image\n",
    "import numpy as np\n",
    "import matplotlib"
   ]
  },
  {
   "cell_type": "code",
   "execution_count": 20,
   "id": "cd2cf97d",
   "metadata": {
    "execution": {
     "iopub.execute_input": "2024-08-29T17:36:19.833873Z",
     "iopub.status.busy": "2024-08-29T17:36:19.833523Z",
     "iopub.status.idle": "2024-08-29T17:36:21.000866Z",
     "shell.execute_reply": "2024-08-29T17:36:20.999909Z"
    },
    "papermill": {
     "duration": 1.337947,
     "end_time": "2024-08-29T17:36:21.002799",
     "exception": false,
     "start_time": "2024-08-29T17:36:19.664852",
     "status": "completed"
    },
    "tags": []
   },
   "outputs": [
    {
     "name": "stdout",
     "output_type": "stream",
     "text": [
      "\u001b[1m313/313\u001b[0m \u001b[32m━━━━━━━━━━━━━━━━━━━━\u001b[0m\u001b[37m\u001b[0m \u001b[1m1s\u001b[0m 2ms/step - accuracy: 0.9081 - loss: 0.3101\n",
      "Accuracy: 92.40% \n"
     ]
    }
   ],
   "source": [
    "##loading model\n",
    "model_last = load_model('/kaggle/working/mnist.h5')\n",
    "scores = model_last.evaluate(x_test,y_test)\n",
    "print(\"Accuracy: %.2f%% \" % (scores[1]*100))"
   ]
  },
  {
   "cell_type": "code",
   "execution_count": 21,
   "id": "12a4f62c",
   "metadata": {
    "execution": {
     "iopub.execute_input": "2024-08-29T17:36:21.383551Z",
     "iopub.status.busy": "2024-08-29T17:36:21.382756Z",
     "iopub.status.idle": "2024-08-29T17:36:21.386987Z",
     "shell.execute_reply": "2024-08-29T17:36:21.386139Z"
    },
    "papermill": {
     "duration": 0.177989,
     "end_time": "2024-08-29T17:36:21.388924",
     "exception": false,
     "start_time": "2024-08-29T17:36:21.210935",
     "status": "completed"
    },
    "tags": []
   },
   "outputs": [],
   "source": [
    "##loading best model\n",
    "# model.load_weights(\"/kaggle/working/MyCheckpoint/best_model-40-0.93.keras\")\n",
    "# scores = model.evaluate(x_test,y_test)\n",
    "# print(\"Accuracy: %.2f%% \" % (scores[1]*100))"
   ]
  },
  {
   "cell_type": "code",
   "execution_count": 22,
   "id": "4502a6b6",
   "metadata": {
    "execution": {
     "iopub.execute_input": "2024-08-29T17:36:21.725801Z",
     "iopub.status.busy": "2024-08-29T17:36:21.725423Z",
     "iopub.status.idle": "2024-08-29T17:36:21.731107Z",
     "shell.execute_reply": "2024-08-29T17:36:21.730197Z"
    },
    "papermill": {
     "duration": 0.176831,
     "end_time": "2024-08-29T17:36:21.733112",
     "exception": false,
     "start_time": "2024-08-29T17:36:21.556281",
     "status": "completed"
    },
    "tags": []
   },
   "outputs": [],
   "source": [
    "### function to predict the output \n",
    "\n",
    "def predict_digit(img):\n",
    "    \n",
    "#     img = img.resize((28,28))\n",
    "#     img = img.convert('L')    ###RGB ----> GRAY\n",
    "    \n",
    "    img = np.array(img)\n",
    "    img = img.reshape(1,28,28,1)    ## reshaping\n",
    "    \n",
    "    ### prediction of class\n",
    "    res = model.predict([img])[0]\n",
    "    return np.argmax(res), max(res)"
   ]
  },
  {
   "cell_type": "code",
   "execution_count": 23,
   "id": "457f00ec",
   "metadata": {
    "execution": {
     "iopub.execute_input": "2024-08-29T17:36:22.070947Z",
     "iopub.status.busy": "2024-08-29T17:36:22.070044Z",
     "iopub.status.idle": "2024-08-29T17:36:22.400897Z",
     "shell.execute_reply": "2024-08-29T17:36:22.399998Z"
    },
    "papermill": {
     "duration": 0.502482,
     "end_time": "2024-08-29T17:36:22.402756",
     "exception": false,
     "start_time": "2024-08-29T17:36:21.900274",
     "status": "completed"
    },
    "tags": []
   },
   "outputs": [
    {
     "name": "stdout",
     "output_type": "stream",
     "text": [
      "\u001b[1m1/1\u001b[0m \u001b[32m━━━━━━━━━━━━━━━━━━━━\u001b[0m\u001b[37m\u001b[0m \u001b[1m0s\u001b[0m 284ms/step\n",
      "Predicted class is :  6\n"
     ]
    }
   ],
   "source": [
    "## making prediction\n",
    "index = 600\n",
    "digit_img = x_test[index]\n",
    "pred_class = predict_digit(digit_img)\n",
    "print(\"Predicted class is : \", pred_class[0])"
   ]
  },
  {
   "cell_type": "code",
   "execution_count": 24,
   "id": "48812f16",
   "metadata": {
    "execution": {
     "iopub.execute_input": "2024-08-29T17:36:22.738700Z",
     "iopub.status.busy": "2024-08-29T17:36:22.738266Z",
     "iopub.status.idle": "2024-08-29T17:36:22.821359Z",
     "shell.execute_reply": "2024-08-29T17:36:22.820205Z"
    },
    "papermill": {
     "duration": 0.254134,
     "end_time": "2024-08-29T17:36:22.823699",
     "exception": false,
     "start_time": "2024-08-29T17:36:22.569565",
     "status": "completed"
    },
    "tags": []
   },
   "outputs": [
    {
     "data": {
      "text/plain": [
       "(-0.5, 27.5, 27.5, -0.5)"
      ]
     },
     "execution_count": 24,
     "metadata": {},
     "output_type": "execute_result"
    },
    {
     "data": {
      "image/png": "[encoded data removed]",
      "text/plain": [
       "<Figure size 640x480 with 1 Axes>"
      ]
     },
     "metadata": {},
     "output_type": "display_data"
    }
   ],
   "source": [
    "plt.imshow(np.squeeze(digit_img), cmap=matplotlib.cm.binary, interpolation=\"nearest\")\n",
    "plt.axis(\"off\")"
   ]
  },
  {
   "cell_type": "code",
   "execution_count": 25,
   "id": "a4f7bb48",
   "metadata": {
    "execution": {
     "iopub.execute_input": "2024-08-29T17:36:23.182961Z",
     "iopub.status.busy": "2024-08-29T17:36:23.182217Z",
     "iopub.status.idle": "2024-08-29T17:36:23.187758Z",
     "shell.execute_reply": "2024-08-29T17:36:23.186800Z"
    },
    "papermill": {
     "duration": 0.189718,
     "end_time": "2024-08-29T17:36:23.189817",
     "exception": false,
     "start_time": "2024-08-29T17:36:23.000099",
     "status": "completed"
    },
    "tags": []
   },
   "outputs": [
    {
     "name": "stdout",
     "output_type": "stream",
     "text": [
      "the True lable is :  6\n"
     ]
    }
   ],
   "source": [
    "print(\"the True lable is : \", np.argmax(y_test[index]))"
   ]
  }
 ],
 "metadata": {
  "kaggle": {
   "accelerator": "none",
   "dataSources": [],
   "dockerImageVersionId": 30761,
   "isGpuEnabled": false,
   "isInternetEnabled": true,
   "language": "python",
   "sourceType": "notebook"
  },
  "kernelspec": {
   "display_name": "Python 3",
   "language": "python",
   "name": "python3"
  },
  "language_info": {
   "codemirror_mode": {
    "name": "ipython",
    "version": 3
   },
   "file_extension": ".py",
   "mimetype": "text/x-python",
   "name": "python",
   "nbconvert_exporter": "python",
   "pygments_lexer": "ipython3",
   "version": "3.10.14"
  },
  "papermill": {
   "default_parameters": {},
   "duration": 149.648997,
   "end_time": "2024-08-29T17:36:25.389734",
   "environment_variables": {},
   "exception": null,
   "input_path": "__notebook__.ipynb",
   "output_path": "__notebook__.ipynb",
   "parameters": {},
   "start_time": "2024-08-29T17:33:55.740737",
   "version": "2.6.0"
  }
 },
 "nbformat": 4,
 "nbformat_minor": 5
}
